{
 "cells": [
  {
   "cell_type": "code",
   "execution_count": 35,
   "metadata": {},
   "outputs": [],
   "source": [
    "import numpy as np\n",
    "import pandas as pd\n",
    "import matplotlib.pyplot as plt\n",
    "import seaborn as sns\n",
    "sns.set()"
   ]
  },
  {
   "cell_type": "code",
   "execution_count": 48,
   "metadata": {},
   "outputs": [
    {
     "name": "stdout",
     "output_type": "stream",
     "text": [
      "[*********************100%***********************]  1 of 1 completed\n",
      "[*********************100%***********************]  1 of 1 completed\n",
      "[*********************100%***********************]  1 of 1 completed\n",
      "[*********************100%***********************]  1 of 1 completed\n",
      "[*********************100%***********************]  1 of 1 completed\n",
      "[*********************100%***********************]  1 of 1 completed\n",
      "[*********************100%***********************]  1 of 1 completed\n",
      "[*********************100%***********************]  1 of 1 completed\n",
      "[*********************100%***********************]  1 of 1 completed\n",
      "[*********************100%***********************]  1 of 1 completed\n",
      "[*********************100%***********************]  1 of 1 completed\n"
     ]
    }
   ],
   "source": [
    "import yfinance as yf\n",
    "stock_symbol = ['AMD', 'FB', 'FSV', 'INFY', 'KNX', 'MONDY', 'MTDR', 'JINDALSTEL.NS', 'TMUS', 'TSLA', 'TWTR']\n",
    "\n",
    "def data_download(i):\n",
    "    data = yf.download(tickers=i,period='1y',interval='1d')[['Close']]\n",
    "    return(data.reset_index())\n",
    "\n",
    "dfs = [data_download(s) for s in stock_symbol]\n"
   ]
  },
  {
   "cell_type": "code",
   "execution_count": 49,
   "metadata": {},
   "outputs": [
    {
     "data": {
      "text/html": [
       "<div>\n",
       "<style scoped>\n",
       "    .dataframe tbody tr th:only-of-type {\n",
       "        vertical-align: middle;\n",
       "    }\n",
       "\n",
       "    .dataframe tbody tr th {\n",
       "        vertical-align: top;\n",
       "    }\n",
       "\n",
       "    .dataframe thead th {\n",
       "        text-align: right;\n",
       "    }\n",
       "</style>\n",
       "<table border=\"1\" class=\"dataframe\">\n",
       "  <thead>\n",
       "    <tr style=\"text-align: right;\">\n",
       "      <th></th>\n",
       "      <th>Close_x</th>\n",
       "      <th>Close_y</th>\n",
       "      <th>Close_x</th>\n",
       "      <th>Close_y</th>\n",
       "      <th>Close_x</th>\n",
       "      <th>Close_y</th>\n",
       "      <th>Close_x</th>\n",
       "      <th>Close_y</th>\n",
       "      <th>Close_x</th>\n",
       "      <th>Close_y</th>\n",
       "      <th>Close</th>\n",
       "    </tr>\n",
       "  </thead>\n",
       "  <tbody>\n",
       "    <tr>\n",
       "      <th>0</th>\n",
       "      <td>83.910004</td>\n",
       "      <td>329.510010</td>\n",
       "      <td>165.660004</td>\n",
       "      <td>18.459999</td>\n",
       "      <td>47.439999</td>\n",
       "      <td>56.680000</td>\n",
       "      <td>27.270000</td>\n",
       "      <td>454.250000</td>\n",
       "      <td>134.009995</td>\n",
       "      <td>677.000000</td>\n",
       "      <td>65.089996</td>\n",
       "    </tr>\n",
       "    <tr>\n",
       "      <th>1</th>\n",
       "      <td>81.620003</td>\n",
       "      <td>325.079987</td>\n",
       "      <td>162.250000</td>\n",
       "      <td>18.080000</td>\n",
       "      <td>47.119999</td>\n",
       "      <td>55.367001</td>\n",
       "      <td>26.309999</td>\n",
       "      <td>441.500000</td>\n",
       "      <td>132.130005</td>\n",
       "      <td>709.440002</td>\n",
       "      <td>55.220001</td>\n",
       "    </tr>\n",
       "    <tr>\n",
       "      <th>2</th>\n",
       "      <td>78.550003</td>\n",
       "      <td>322.579987</td>\n",
       "      <td>162.250000</td>\n",
       "      <td>18.200001</td>\n",
       "      <td>47.580002</td>\n",
       "      <td>55.674999</td>\n",
       "      <td>26.170000</td>\n",
       "      <td>445.299988</td>\n",
       "      <td>131.449997</td>\n",
       "      <td>684.900024</td>\n",
       "      <td>54.580002</td>\n",
       "    </tr>\n",
       "    <tr>\n",
       "      <th>3</th>\n",
       "      <td>78.610001</td>\n",
       "      <td>318.359985</td>\n",
       "      <td>159.910004</td>\n",
       "      <td>18.110001</td>\n",
       "      <td>48.500000</td>\n",
       "      <td>54.980000</td>\n",
       "      <td>27.020000</td>\n",
       "      <td>435.750000</td>\n",
       "      <td>128.479996</td>\n",
       "      <td>673.599976</td>\n",
       "      <td>54.400002</td>\n",
       "    </tr>\n",
       "    <tr>\n",
       "      <th>4</th>\n",
       "      <td>77.830002</td>\n",
       "      <td>315.019989</td>\n",
       "      <td>163.169998</td>\n",
       "      <td>18.290001</td>\n",
       "      <td>48.619999</td>\n",
       "      <td>56.165001</td>\n",
       "      <td>28.709999</td>\n",
       "      <td>439.399994</td>\n",
       "      <td>134.130005</td>\n",
       "      <td>670.940002</td>\n",
       "      <td>53.560001</td>\n",
       "    </tr>\n",
       "  </tbody>\n",
       "</table>\n",
       "</div>"
      ],
      "text/plain": [
       "     Close_x     Close_y     Close_x    Close_y    Close_x    Close_y  \\\n",
       "0  83.910004  329.510010  165.660004  18.459999  47.439999  56.680000   \n",
       "1  81.620003  325.079987  162.250000  18.080000  47.119999  55.367001   \n",
       "2  78.550003  322.579987  162.250000  18.200001  47.580002  55.674999   \n",
       "3  78.610001  318.359985  159.910004  18.110001  48.500000  54.980000   \n",
       "4  77.830002  315.019989  163.169998  18.290001  48.619999  56.165001   \n",
       "\n",
       "     Close_x     Close_y     Close_x     Close_y      Close  \n",
       "0  27.270000  454.250000  134.009995  677.000000  65.089996  \n",
       "1  26.309999  441.500000  132.130005  709.440002  55.220001  \n",
       "2  26.170000  445.299988  131.449997  684.900024  54.580002  \n",
       "3  27.020000  435.750000  128.479996  673.599976  54.400002  \n",
       "4  28.709999  439.399994  134.130005  670.940002  53.560001  "
      ]
     },
     "execution_count": 49,
     "metadata": {},
     "output_type": "execute_result"
    }
   ],
   "source": [
    "from functools import reduce\n",
    "data = reduce(lambda left,right: pd.merge(left,right,on='Date'), dfs).iloc[:, 1:]\n",
    "data.head()"
   ]
  },
  {
   "cell_type": "code",
   "execution_count": 50,
   "metadata": {},
   "outputs": [],
   "source": [
    "returns = data.pct_change()\n",
    "mean_daily_returns = returns.mean()\n",
    "volatilities = returns.std()"
   ]
  },
  {
   "cell_type": "code",
   "execution_count": 51,
   "metadata": {},
   "outputs": [
    {
     "data": {
      "text/plain": [
       "Close_x    0.197569\n",
       "Close_y   -0.375549\n",
       "Close_x   -0.227280\n",
       "Close_y    0.147329\n",
       "Close_x    0.077718\n",
       "Close_y   -0.377679\n",
       "Close_x    0.802472\n",
       "Close_y    0.287465\n",
       "Close_x    0.022390\n",
       "Close_y    0.426972\n",
       "Close     -0.162335\n",
       "dtype: float64"
      ]
     },
     "execution_count": 51,
     "metadata": {},
     "output_type": "execute_result"
    }
   ],
   "source": [
    "mean_daily_returns * 252"
   ]
  },
  {
   "cell_type": "code",
   "execution_count": 52,
   "metadata": {},
   "outputs": [
    {
     "data": {
      "text/plain": [
       "Close_x    8.067637\n",
       "Close_y    7.460343\n",
       "Close_x    4.339320\n",
       "Close_y    4.366554\n",
       "Close_x    4.511473\n",
       "Close_y    5.591180\n",
       "Close_x    8.939057\n",
       "Close_y    6.956065\n",
       "Close_x    4.286003\n",
       "Close_y    8.882558\n",
       "Close      8.301091\n",
       "dtype: float64"
      ]
     },
     "execution_count": 52,
     "metadata": {},
     "output_type": "execute_result"
    }
   ],
   "source": [
    "volatilities * 252"
   ]
  },
  {
   "cell_type": "code",
   "execution_count": 53,
   "metadata": {},
   "outputs": [],
   "source": [
    "combine = pd.DataFrame({'returns': mean_daily_returns * 252,\n",
    "                       'volatility': volatilities * 252})"
   ]
  },
  {
   "cell_type": "code",
   "execution_count": 57,
   "metadata": {},
   "outputs": [
    {
     "data": {
      "image/png": "[encoded data removed]",
      "text/plain": [
       "<Figure size 432x288 with 1 Axes>"
      ]
     },
     "metadata": {},
     "output_type": "display_data"
    }
   ],
   "source": [
    "g = sns.regplot(\"volatility\", \"returns\", data=combine)\n",
    "\n",
    "for i in range(combine.shape[0]):\n",
    "    plt.annotate(stock_symbol[i], (combine.iloc[i, 1], combine.iloc[i, 0]))\n",
    "    \n",
    "plt.text(2.5, -0.4, 'SELL', fontsize=20)\n",
    "plt.text(2.5, 0.7, 'BUY', fontsize=20)\n",
    "    \n",
    "plt.show()"
   ]
  }
 ],
 "metadata": {
  "kernelspec": {
   "display_name": "Python 3",
   "language": "python",
   "name": "python3"
  },
  "language_info": {
   "codemirror_mode": {
    "name": "ipython",
    "version": 3
   },
   "file_extension": ".py",
   "mimetype": "text/x-python",
   "name": "python",
   "nbconvert_exporter": "python",
   "pygments_lexer": "ipython3",
   "version": "3.10.2"
  },
  "metadata": {
   "interpreter": {
    "hash": "9b502f1ab21a2b0c5a6f9487333892eeadb19b5abc8a1677c0af1301bec2ef5e"
   }
  }
 },
 "nbformat": 4,
 "nbformat_minor": 2
}
