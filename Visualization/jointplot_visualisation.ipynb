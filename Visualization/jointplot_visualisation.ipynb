{
 "cells": [
  {
   "cell_type": "code",
   "execution_count": 1,
   "metadata": {},
   "outputs": [],
   "source": [
    "import numpy as np\n",
    "import pandas as pd\n",
    "import matplotlib.pyplot as plt\n",
    "import seaborn as sns\n",
    "sns.set()"
   ]
  },
  {
   "cell_type": "code",
   "execution_count": 2,
   "metadata": {},
   "outputs": [
    {
     "name": "stdout",
     "output_type": "stream",
     "text": [
      "[*********************100%***********************]  1 of 1 completed\n",
      "[*********************100%***********************]  1 of 1 completed\n",
      "[*********************100%***********************]  1 of 1 completed\n",
      "[*********************100%***********************]  1 of 1 completed\n",
      "[*********************100%***********************]  1 of 1 completed\n",
      "[*********************100%***********************]  1 of 1 completed\n",
      "[*********************100%***********************]  1 of 1 completed\n",
      "[*********************100%***********************]  1 of 1 completed\n",
      "[*********************100%***********************]  1 of 1 completed\n",
      "[*********************100%***********************]  1 of 1 completed\n",
      "[*********************100%***********************]  1 of 1 completed\n"
     ]
    }
   ],
   "source": [
    "import yfinance as yf\n",
    "stock_symbol = ['AMD', 'FB', 'FSV', 'INFY', 'KNX', 'MONDY', 'MTDR', 'JINDALSTEL.NS', 'TMUS', 'TSLA', 'TWTR']\n",
    "\n",
    "def data_download(i):\n",
    "    data = yf.download(tickers=i,period='1y',interval='1d')[['Close']]\n",
    "    return(data.reset_index())\n",
    "\n",
    "dfs = [data_download(s) for s in stock_symbol]\n"
   ]
  },
  {
   "cell_type": "code",
   "execution_count": 3,
   "metadata": {},
   "outputs": [
    {
     "name": "stderr",
     "output_type": "stream",
     "text": [
      "C:\\Users\\Karen Pinto\\AppData\\Local\\Temp\\ipykernel_21688\\4164625882.py:2: FutureWarning: Passing 'suffixes' which cause duplicate columns {'Close_x'} in the result is deprecated and will raise a MergeError in a future version.\n",
      "  data = reduce(lambda left,right: pd.merge(left,right,on='Date'), dfs).iloc[:, 1:]\n",
      "C:\\Users\\Karen Pinto\\AppData\\Local\\Temp\\ipykernel_21688\\4164625882.py:2: FutureWarning: Passing 'suffixes' which cause duplicate columns {'Close_x'} in the result is deprecated and will raise a MergeError in a future version.\n",
      "  data = reduce(lambda left,right: pd.merge(left,right,on='Date'), dfs).iloc[:, 1:]\n",
      "C:\\Users\\Karen Pinto\\AppData\\Local\\Temp\\ipykernel_21688\\4164625882.py:2: FutureWarning: Passing 'suffixes' which cause duplicate columns {'Close_x'} in the result is deprecated and will raise a MergeError in a future version.\n",
      "  data = reduce(lambda left,right: pd.merge(left,right,on='Date'), dfs).iloc[:, 1:]\n",
      "C:\\Users\\Karen Pinto\\AppData\\Local\\Temp\\ipykernel_21688\\4164625882.py:2: FutureWarning: Passing 'suffixes' which cause duplicate columns {'Close_x'} in the result is deprecated and will raise a MergeError in a future version.\n",
      "  data = reduce(lambda left,right: pd.merge(left,right,on='Date'), dfs).iloc[:, 1:]\n"
     ]
    },
    {
     "data": {
      "text/html": [
       "<div>\n",
       "<style scoped>\n",
       "    .dataframe tbody tr th:only-of-type {\n",
       "        vertical-align: middle;\n",
       "    }\n",
       "\n",
       "    .dataframe tbody tr th {\n",
       "        vertical-align: top;\n",
       "    }\n",
       "\n",
       "    .dataframe thead th {\n",
       "        text-align: right;\n",
       "    }\n",
       "</style>\n",
       "<table border=\"1\" class=\"dataframe\">\n",
       "  <thead>\n",
       "    <tr style=\"text-align: right;\">\n",
       "      <th></th>\n",
       "      <th>Close_x</th>\n",
       "      <th>Close_y</th>\n",
       "      <th>Close_x</th>\n",
       "      <th>Close_y</th>\n",
       "      <th>Close_x</th>\n",
       "      <th>Close_y</th>\n",
       "      <th>Close_x</th>\n",
       "      <th>Close_y</th>\n",
       "      <th>Close_x</th>\n",
       "      <th>Close_y</th>\n",
       "      <th>Close</th>\n",
       "    </tr>\n",
       "  </thead>\n",
       "  <tbody>\n",
       "    <tr>\n",
       "      <th>0</th>\n",
       "      <td>80.809998</td>\n",
       "      <td>329.130005</td>\n",
       "      <td>162.259995</td>\n",
       "      <td>19.270000</td>\n",
       "      <td>48.389999</td>\n",
       "      <td>55.830002</td>\n",
       "      <td>32.360001</td>\n",
       "      <td>396.500000</td>\n",
       "      <td>141.699997</td>\n",
       "      <td>623.900024</td>\n",
       "      <td>57.439999</td>\n",
       "    </tr>\n",
       "    <tr>\n",
       "      <th>1</th>\n",
       "      <td>81.970001</td>\n",
       "      <td>329.149994</td>\n",
       "      <td>162.509995</td>\n",
       "      <td>19.290001</td>\n",
       "      <td>47.619999</td>\n",
       "      <td>55.590000</td>\n",
       "      <td>32.439999</td>\n",
       "      <td>398.799988</td>\n",
       "      <td>140.979996</td>\n",
       "      <td>605.119995</td>\n",
       "      <td>57.160000</td>\n",
       "    </tr>\n",
       "    <tr>\n",
       "      <th>2</th>\n",
       "      <td>80.279999</td>\n",
       "      <td>326.040009</td>\n",
       "      <td>163.679993</td>\n",
       "      <td>19.139999</td>\n",
       "      <td>47.520000</td>\n",
       "      <td>56.099998</td>\n",
       "      <td>33.389999</td>\n",
       "      <td>397.399994</td>\n",
       "      <td>142.320007</td>\n",
       "      <td>572.840027</td>\n",
       "      <td>57.009998</td>\n",
       "    </tr>\n",
       "    <tr>\n",
       "      <th>3</th>\n",
       "      <td>81.580002</td>\n",
       "      <td>330.350006</td>\n",
       "      <td>165.020004</td>\n",
       "      <td>19.290001</td>\n",
       "      <td>47.200001</td>\n",
       "      <td>55.064999</td>\n",
       "      <td>32.939999</td>\n",
       "      <td>398.600006</td>\n",
       "      <td>144.509995</td>\n",
       "      <td>599.049988</td>\n",
       "      <td>59.000000</td>\n",
       "    </tr>\n",
       "    <tr>\n",
       "      <th>4</th>\n",
       "      <td>81.349998</td>\n",
       "      <td>336.579987</td>\n",
       "      <td>166.000000</td>\n",
       "      <td>19.400000</td>\n",
       "      <td>46.779999</td>\n",
       "      <td>55.778999</td>\n",
       "      <td>32.740002</td>\n",
       "      <td>404.750000</td>\n",
       "      <td>143.509995</td>\n",
       "      <td>605.130005</td>\n",
       "      <td>59.630001</td>\n",
       "    </tr>\n",
       "  </tbody>\n",
       "</table>\n",
       "</div>"
      ],
      "text/plain": [
       "     Close_x     Close_y     Close_x    Close_y    Close_x    Close_y  \\\n",
       "0  80.809998  329.130005  162.259995  19.270000  48.389999  55.830002   \n",
       "1  81.970001  329.149994  162.509995  19.290001  47.619999  55.590000   \n",
       "2  80.279999  326.040009  163.679993  19.139999  47.520000  56.099998   \n",
       "3  81.580002  330.350006  165.020004  19.290001  47.200001  55.064999   \n",
       "4  81.349998  336.579987  166.000000  19.400000  46.779999  55.778999   \n",
       "\n",
       "     Close_x     Close_y     Close_x     Close_y      Close  \n",
       "0  32.360001  396.500000  141.699997  623.900024  57.439999  \n",
       "1  32.439999  398.799988  140.979996  605.119995  57.160000  \n",
       "2  33.389999  397.399994  142.320007  572.840027  57.009998  \n",
       "3  32.939999  398.600006  144.509995  599.049988  59.000000  \n",
       "4  32.740002  404.750000  143.509995  605.130005  59.630001  "
      ]
     },
     "execution_count": 3,
     "metadata": {},
     "output_type": "execute_result"
    }
   ],
   "source": [
    "from functools import reduce\n",
    "data = reduce(lambda left,right: pd.merge(left,right,on='Date'), dfs).iloc[:, 1:]\n",
    "data.head()"
   ]
  },
  {
   "cell_type": "code",
   "execution_count": 4,
   "metadata": {},
   "outputs": [],
   "source": [
    "returns = data.pct_change()\n",
    "mean_daily_returns = returns.mean()\n",
    "volatilities = returns.std()"
   ]
  },
  {
   "cell_type": "code",
   "execution_count": 5,
   "metadata": {},
   "outputs": [
    {
     "data": {
      "text/plain": [
       "Close_x    0.395134\n",
       "Close_y   -0.415898\n",
       "Close_x   -0.233619\n",
       "Close_y    0.022401\n",
       "Close_x    0.045780\n",
       "Close_y   -0.303524\n",
       "Close_x    0.851875\n",
       "Close_y    0.055964\n",
       "Close_x   -0.034878\n",
       "Close_y    0.368302\n",
       "Close     -0.255779\n",
       "dtype: float64"
      ]
     },
     "execution_count": 5,
     "metadata": {},
     "output_type": "execute_result"
    }
   ],
   "source": [
    "mean_daily_returns * 252"
   ]
  },
  {
   "cell_type": "code",
   "execution_count": 6,
   "metadata": {},
   "outputs": [
    {
     "data": {
      "text/plain": [
       "Close_x    8.847876\n",
       "Close_y    7.821704\n",
       "Close_x    4.588300\n",
       "Close_y    4.533974\n",
       "Close_x    4.926627\n",
       "Close_y    5.680466\n",
       "Close_x    9.255462\n",
       "Close_y    7.394877\n",
       "Close_x    4.419308\n",
       "Close_y    9.540665\n",
       "Close      8.284941\n",
       "dtype: float64"
      ]
     },
     "execution_count": 6,
     "metadata": {},
     "output_type": "execute_result"
    }
   ],
   "source": [
    "volatilities * 252"
   ]
  },
  {
   "cell_type": "code",
   "execution_count": 7,
   "metadata": {},
   "outputs": [],
   "source": [
    "combine = pd.DataFrame({'returns': mean_daily_returns * 252,\n",
    "                       'volatility': volatilities * 252})"
   ]
  },
  {
   "cell_type": "code",
   "execution_count": 8,
   "metadata": {},
   "outputs": [
    {
     "name": "stderr",
     "output_type": "stream",
     "text": [
      "c:\\Users\\Karen Pinto\\AppData\\Local\\Programs\\Python\\Python310\\lib\\site-packages\\seaborn\\_decorators.py:36: FutureWarning: Pass the following variables as keyword args: x, y. From version 0.12, the only valid positional argument will be `data`, and passing other arguments without an explicit keyword will result in an error or misinterpretation.\n",
      "  warnings.warn(\n"
     ]
    },
    {
     "data": {
      "image/png": "[encoded data removed]",
      "text/plain": [
       "<Figure size 432x288 with 1 Axes>"
      ]
     },
     "metadata": {},
     "output_type": "display_data"
    }
   ],
   "source": [
    "g = sns.regplot(\"volatility\", \"returns\", data=combine)\n",
    "\n",
    "for i in range(combine.shape[0]):\n",
    "    plt.annotate(stock_symbol[i], (combine.iloc[i, 1], combine.iloc[i, 0]))\n",
    "    \n",
    "plt.text(2.5, -0.4, 'SELL', fontsize=20)\n",
    "plt.text(2.5, 0.7, 'BUY', fontsize=20)\n",
    "    \n",
    "plt.show()"
   ]
  }
 ],
 "metadata": {
  "interpreter": {
   "hash": "495ca3041cb0ea136692e1be8c26281a14af0418275682a7cbc353b2b1cf71a3"
  },
  "kernelspec": {
   "display_name": "Python 3.10.2 64-bit",
   "language": "python",
   "name": "python3"
  },
  "language_info": {
   "codemirror_mode": {
    "name": "ipython",
    "version": 3
   },
   "file_extension": ".py",
   "mimetype": "text/x-python",
   "name": "python",
   "nbconvert_exporter": "python",
   "pygments_lexer": "ipython3",
   "version": "3.10.2"
  },
  "metadata": {
   "interpreter": {
    "hash": "9b502f1ab21a2b0c5a6f9487333892eeadb19b5abc8a1677c0af1301bec2ef5e"
   }
  }
 },
 "nbformat": 4,
 "nbformat_minor": 2
}
