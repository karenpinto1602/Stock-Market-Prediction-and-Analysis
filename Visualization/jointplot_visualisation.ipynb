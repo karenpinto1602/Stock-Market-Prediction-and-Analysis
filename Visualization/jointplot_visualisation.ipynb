{
 "cells": [
  {
   "cell_type": "code",
   "execution_count": 4,
   "metadata": {},
   "outputs": [],
   "source": [
    "import numpy as np\n",
    "import pandas as pd\n",
    "import matplotlib.pyplot as plt\n",
    "import seaborn as sns\n",
    "sns.set()"
   ]
  },
  {
   "cell_type": "code",
   "execution_count": 5,
   "metadata": {},
   "outputs": [],
   "source": [
    "directory = 'dataset/dataset/'\n",
    "ori_name = ['AMD.csv', 'FB.csv', 'FSV.csv', 'INFY.csv', 'KNX.csv',\n",
    "          'MONDY.csv', 'MTDR.csv', 'JINDALSTEL.NS.csv', 'TMUS.csv', 'TSLA.csv', 'TWTR.csv']\n",
    "stocks = [directory + s for s in ori_name]"
   ]
  },
  {
   "cell_type": "code",
   "execution_count": 6,
   "metadata": {},
   "outputs": [],
   "source": [
    "dfs = [pd.read_csv(s)[['Date', 'Close']] for s in stocks]"
   ]
  },
  {
   "cell_type": "code",
   "execution_count": 7,
   "metadata": {},
   "outputs": [
    {
     "name": "stderr",
     "output_type": "stream",
     "text": [
      "C:\\Users\\Karen Pinto\\AppData\\Local\\Temp\\ipykernel_5308\\4164625882.py:2: FutureWarning: Passing 'suffixes' which cause duplicate columns {'Close_x'} in the result is deprecated and will raise a MergeError in a future version.\n",
      "  data = reduce(lambda left,right: pd.merge(left,right,on='Date'), dfs).iloc[:, 1:]\n",
      "C:\\Users\\Karen Pinto\\AppData\\Local\\Temp\\ipykernel_5308\\4164625882.py:2: FutureWarning: Passing 'suffixes' which cause duplicate columns {'Close_x'} in the result is deprecated and will raise a MergeError in a future version.\n",
      "  data = reduce(lambda left,right: pd.merge(left,right,on='Date'), dfs).iloc[:, 1:]\n",
      "C:\\Users\\Karen Pinto\\AppData\\Local\\Temp\\ipykernel_5308\\4164625882.py:2: FutureWarning: Passing 'suffixes' which cause duplicate columns {'Close_x'} in the result is deprecated and will raise a MergeError in a future version.\n",
      "  data = reduce(lambda left,right: pd.merge(left,right,on='Date'), dfs).iloc[:, 1:]\n",
      "C:\\Users\\Karen Pinto\\AppData\\Local\\Temp\\ipykernel_5308\\4164625882.py:2: FutureWarning: Passing 'suffixes' which cause duplicate columns {'Close_x'} in the result is deprecated and will raise a MergeError in a future version.\n",
      "  data = reduce(lambda left,right: pd.merge(left,right,on='Date'), dfs).iloc[:, 1:]\n"
     ]
    },
    {
     "data": {
      "text/html": [
       "<div>\n",
       "<style scoped>\n",
       "    .dataframe tbody tr th:only-of-type {\n",
       "        vertical-align: middle;\n",
       "    }\n",
       "\n",
       "    .dataframe tbody tr th {\n",
       "        vertical-align: top;\n",
       "    }\n",
       "\n",
       "    .dataframe thead th {\n",
       "        text-align: right;\n",
       "    }\n",
       "</style>\n",
       "<table border=\"1\" class=\"dataframe\">\n",
       "  <thead>\n",
       "    <tr style=\"text-align: right;\">\n",
       "      <th></th>\n",
       "      <th>Close_x</th>\n",
       "      <th>Close_y</th>\n",
       "      <th>Close_x</th>\n",
       "      <th>Close_y</th>\n",
       "      <th>Close_x</th>\n",
       "      <th>Close_y</th>\n",
       "      <th>Close_x</th>\n",
       "      <th>Close_y</th>\n",
       "      <th>Close_x</th>\n",
       "      <th>Close_y</th>\n",
       "      <th>Close</th>\n",
       "    </tr>\n",
       "  </thead>\n",
       "  <tbody>\n",
       "    <tr>\n",
       "      <th>0</th>\n",
       "      <td>94.580002</td>\n",
       "      <td>267.570007</td>\n",
       "      <td>141.929993</td>\n",
       "      <td>18.590000</td>\n",
       "      <td>43.470001</td>\n",
       "      <td>51.790001</td>\n",
       "      <td>15.520000</td>\n",
       "      <td>293.799988</td>\n",
       "      <td>135.059998</td>\n",
       "      <td>880.020020</td>\n",
       "      <td>51.480000</td>\n",
       "    </tr>\n",
       "    <tr>\n",
       "      <th>1</th>\n",
       "      <td>97.250000</td>\n",
       "      <td>256.839996</td>\n",
       "      <td>137.800003</td>\n",
       "      <td>18.760000</td>\n",
       "      <td>42.709999</td>\n",
       "      <td>50.840000</td>\n",
       "      <td>15.800000</td>\n",
       "      <td>293.049988</td>\n",
       "      <td>132.929993</td>\n",
       "      <td>811.190002</td>\n",
       "      <td>48.180000</td>\n",
       "    </tr>\n",
       "    <tr>\n",
       "      <th>2</th>\n",
       "      <td>95.360001</td>\n",
       "      <td>251.089996</td>\n",
       "      <td>135.089996</td>\n",
       "      <td>18.600000</td>\n",
       "      <td>43.250000</td>\n",
       "      <td>51.549999</td>\n",
       "      <td>16.480000</td>\n",
       "      <td>294.399994</td>\n",
       "      <td>128.690002</td>\n",
       "      <td>849.440002</td>\n",
       "      <td>47.040001</td>\n",
       "    </tr>\n",
       "    <tr>\n",
       "      <th>3</th>\n",
       "      <td>91.779999</td>\n",
       "      <td>251.639999</td>\n",
       "      <td>135.710007</td>\n",
       "      <td>18.430000</td>\n",
       "      <td>43.470001</td>\n",
       "      <td>50.630001</td>\n",
       "      <td>16.030001</td>\n",
       "      <td>299.750000</td>\n",
       "      <td>128.500000</td>\n",
       "      <td>854.409973</td>\n",
       "      <td>47.220001</td>\n",
       "    </tr>\n",
       "    <tr>\n",
       "      <th>4</th>\n",
       "      <td>90.790001</td>\n",
       "      <td>245.639999</td>\n",
       "      <td>137.639999</td>\n",
       "      <td>18.219999</td>\n",
       "      <td>44.480000</td>\n",
       "      <td>51.939999</td>\n",
       "      <td>16.540001</td>\n",
       "      <td>293.649994</td>\n",
       "      <td>124.690002</td>\n",
       "      <td>845.000000</td>\n",
       "      <td>45.790001</td>\n",
       "    </tr>\n",
       "  </tbody>\n",
       "</table>\n",
       "</div>"
      ],
      "text/plain": [
       "     Close_x     Close_y     Close_x    Close_y    Close_x    Close_y  \\\n",
       "0  94.580002  267.570007  141.929993  18.590000  43.470001  51.790001   \n",
       "1  97.250000  256.839996  137.800003  18.760000  42.709999  50.840000   \n",
       "2  95.360001  251.089996  135.089996  18.600000  43.250000  51.549999   \n",
       "3  91.779999  251.639999  135.710007  18.430000  43.470001  50.630001   \n",
       "4  90.790001  245.639999  137.639999  18.219999  44.480000  51.939999   \n",
       "\n",
       "     Close_x     Close_y     Close_x     Close_y      Close  \n",
       "0  15.520000  293.799988  135.059998  880.020020  51.480000  \n",
       "1  15.800000  293.049988  132.929993  811.190002  48.180000  \n",
       "2  16.480000  294.399994  128.690002  849.440002  47.040001  \n",
       "3  16.030001  299.750000  128.500000  854.409973  47.220001  \n",
       "4  16.540001  293.649994  124.690002  845.000000  45.790001  "
      ]
     },
     "execution_count": 7,
     "metadata": {},
     "output_type": "execute_result"
    }
   ],
   "source": [
    "from functools import reduce\n",
    "data = reduce(lambda left,right: pd.merge(left,right,on='Date'), dfs).iloc[:, 1:]\n",
    "data.head()"
   ]
  },
  {
   "cell_type": "code",
   "execution_count": 8,
   "metadata": {},
   "outputs": [],
   "source": [
    "returns = data.pct_change()\n",
    "mean_daily_returns = returns.mean()\n",
    "volatilities = returns.std()"
   ]
  },
  {
   "cell_type": "code",
   "execution_count": 9,
   "metadata": {},
   "outputs": [
    {
     "data": {
      "text/plain": [
       "Close_x   -0.427263\n",
       "Close_y    0.735194\n",
       "Close_x    0.509847\n",
       "Close_y   -0.063756\n",
       "Close_x    0.324793\n",
       "Close_y    0.280127\n",
       "Close_x    2.122266\n",
       "Close_y    1.539646\n",
       "Close_x   -0.036006\n",
       "Close_y   -0.524399\n",
       "Close      0.426694\n",
       "dtype: float64"
      ]
     },
     "execution_count": 9,
     "metadata": {},
     "output_type": "execute_result"
    }
   ],
   "source": [
    "mean_daily_returns * 252"
   ]
  },
  {
   "cell_type": "code",
   "execution_count": 10,
   "metadata": {},
   "outputs": [
    {
     "data": {
      "text/plain": [
       "Close_x     6.690635\n",
       "Close_y     5.215759\n",
       "Close_x     4.579849\n",
       "Close_y     4.135928\n",
       "Close_x     4.630070\n",
       "Close_y     4.849706\n",
       "Close_x    11.648769\n",
       "Close_y     7.533855\n",
       "Close_x     4.555902\n",
       "Close_y    10.963129\n",
       "Close       9.564248\n",
       "dtype: float64"
      ]
     },
     "execution_count": 10,
     "metadata": {},
     "output_type": "execute_result"
    }
   ],
   "source": [
    "volatilities * 252"
   ]
  },
  {
   "cell_type": "code",
   "execution_count": 11,
   "metadata": {},
   "outputs": [],
   "source": [
    "combine = pd.DataFrame({'returns': mean_daily_returns * 252,\n",
    "                       'volatility': volatilities * 252})"
   ]
  },
  {
   "cell_type": "code",
   "execution_count": 12,
   "metadata": {},
   "outputs": [
    {
     "name": "stderr",
     "output_type": "stream",
     "text": [
      "C:\\Users\\Karen Pinto\\AppData\\Local\\Programs\\Python\\Python310\\lib\\site-packages\\seaborn\\_decorators.py:36: FutureWarning: Pass the following variables as keyword args: x, y. From version 0.12, the only valid positional argument will be `data`, and passing other arguments without an explicit keyword will result in an error or misinterpretation.\n",
      "  warnings.warn(\n"
     ]
    },
    {
     "data": {
      "image/png": "[encoded data removed]",
      "text/plain": [
       "<Figure size 432x288 with 1 Axes>"
      ]
     },
     "metadata": {},
     "output_type": "display_data"
    }
   ],
   "source": [
    "g = sns.regplot(\"volatility\", \"returns\", data=combine)\n",
    "\n",
    "for i in range(combine.shape[0]):\n",
    "    plt.annotate(ori_name[i].replace('.csv',''), (combine.iloc[i, 1], combine.iloc[i, 0]))\n",
    "    \n",
    "plt.text(0, -1.5, 'SELL', fontsize=25)\n",
    "plt.text(0, 1.0, 'BUY', fontsize=25)\n",
    "    \n",
    "plt.show()"
   ]
  },
  {
   "cell_type": "code",
   "execution_count": null,
   "metadata": {},
   "outputs": [],
   "source": []
  }
 ],
 "metadata": {
  "kernelspec": {
   "display_name": "Python 3",
   "language": "python",
   "name": "python3"
  },
  "language_info": {
   "codemirror_mode": {
    "name": "ipython",
    "version": 3
   },
   "file_extension": ".py",
   "mimetype": "text/x-python",
   "name": "python",
   "nbconvert_exporter": "python",
   "pygments_lexer": "ipython3",
   "version": "3.10.2"
  },
  "metadata": {
   "interpreter": {
    "hash": "9b502f1ab21a2b0c5a6f9487333892eeadb19b5abc8a1677c0af1301bec2ef5e"
   }
  }
 },
 "nbformat": 4,
 "nbformat_minor": 2
}
