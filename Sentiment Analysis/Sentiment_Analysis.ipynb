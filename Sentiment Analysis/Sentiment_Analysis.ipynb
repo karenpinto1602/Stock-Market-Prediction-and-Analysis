{
  "cells": [
    {
      "cell_type": "code",
      "execution_count": 1,
      "metadata": {},
      "outputs": [
        {
          "name": "stderr",
          "output_type": "stream",
          "text": [
            "[nltk_data] Downloading package vader_lexicon to C:\\Users\\Karen\n",
            "[nltk_data]     Pinto\\AppData\\Roaming\\nltk_data...\n",
            "[nltk_data]   Package vader_lexicon is already up-to-date!\n"
          ]
        },
        {
          "data": {
            "text/plain": [
              "True"
            ]
          },
          "execution_count": 1,
          "metadata": {},
          "output_type": "execute_result"
        }
      ],
      "source": [
        "from urllib.request import urlopen, Request\n",
        "from bs4 import BeautifulSoup\n",
        "from nltk.sentiment.vader import SentimentIntensityAnalyzer\n",
        "import pandas as pd\n",
        "import matplotlib.pyplot as plt\n",
        "import nltk\n",
        "nltk.download('vader_lexicon')"
      ]
    },
    {
      "cell_type": "code",
      "execution_count": 2,
      "metadata": {},
      "outputs": [],
      "source": [
        "finviz_url = 'https://finviz.com/quote.ashx?t='\n",
        "tickers = ['AMZN', 'GOOG', 'FB']"
      ]
    },
    {
      "cell_type": "code",
      "execution_count": 3,
      "metadata": {},
      "outputs": [],
      "source": [
        "news_tables = {}\n",
        "for ticker in tickers:\n",
        "    url = finviz_url + ticker\n",
        "\n",
        "    req = Request(url=url, headers={'user-agent': 'my-app'}) # to get access from finviz\n",
        "    response = urlopen(req)\n",
        "\n",
        "    html = BeautifulSoup(response, features='html.parser') # will return the source code of that url page\n",
        "    # from the source code, it is noticed that all the articles are stored in a table with the id=news-table\n",
        "    # so lets access the whole table\n",
        "    news_table = html.find(id='news-table') \n",
        "    news_tables[ticker] = news_table # so here we store the whole table in a dictionary with key 'ticker'\n"
      ]
    },
    {
      "cell_type": "code",
      "execution_count": 4,
      "metadata": {},
      "outputs": [
        {
          "name": "stdout",
          "output_type": "stream",
          "text": [
            "    ticker       date       time  \\\n",
            "0     AMZN  Mar-28-22  08:18AM     \n",
            "1     AMZN  Mar-28-22  07:45AM     \n",
            "2     AMZN  Mar-28-22  06:10AM     \n",
            "3     AMZN  Mar-28-22  05:58AM     \n",
            "4     AMZN  Mar-28-22  05:52AM     \n",
            "..     ...        ...        ...   \n",
            "295     FB  Mar-18-22  04:40PM     \n",
            "296     FB  Mar-18-22  03:18PM     \n",
            "297     FB  Mar-18-22  01:45PM     \n",
            "298     FB  Mar-18-22  12:00PM     \n",
            "299     FB  Mar-18-22  11:54AM     \n",
            "\n",
            "                                                 title  \n",
            "0    Tesla Plans Another Stock Split, but This Tiny...  \n",
            "1    Is Snowflake Stock A Buy Or Sell Amid Software...  \n",
            "2    Apple's 'CODA' win at the Oscars could unleash...  \n",
            "3    Why you should fear oil prices at $90, $100, $...  \n",
            "4    3 Warren Buffett Stocks I'd Buy Without Any He...  \n",
            "..                                                 ...  \n",
            "295  Russian copycats are stealing intellectual pro...  \n",
            "296  Stocks turn positive to end the week, led by m...  \n",
            "297  McDonald's, Starbucks, and others have no reco...  \n",
            "298  Instagram users targeted for get-rich-quick in...  \n",
            "299  Instagram releases new parental supervisory to...  \n",
            "\n",
            "[300 rows x 4 columns]\n"
          ]
        }
      ],
      "source": [
        "parsed_data = []\n",
        "\n",
        "for ticker, news_table in news_tables.items():\n",
        "\n",
        "    for row in news_table.findAll('tr'):\n",
        "\n",
        "        title = row.a.text\n",
        "        date_data = row.td.text.split(' ')\n",
        "\n",
        "        if len(date_data) == 1:\n",
        "            time = date_data[0]\n",
        "        else:\n",
        "            date = date_data[0]\n",
        "            time = date_data[1]\n",
        "\n",
        "        parsed_data.append([ticker, date, time, title])\n",
        "\n",
        "df = pd.DataFrame(parsed_data, columns=['ticker', 'date', 'time', 'title'])\n",
        "df1 = pd.DataFrame(parsed_data, columns=['ticker', 'date', 'time', 'title'])\n",
        "print(df)"
      ]
    },
    {
      "cell_type": "code",
      "execution_count": 5,
      "metadata": {},
      "outputs": [
        {
          "name": "stdout",
          "output_type": "stream",
          "text": [
            "0      Tesla Plans Another Stock Split, but This Tiny...\n",
            "1      Is Snowflake Stock A Buy Or Sell Amid Software...\n",
            "2      Apple's 'CODA' win at the Oscars could unleash...\n",
            "3      Why you should fear oil prices at $90, $100, $...\n",
            "4      3 Warren Buffett Stocks I'd Buy Without Any He...\n",
            "                             ...                        \n",
            "295    Russian copycats are stealing intellectual pro...\n",
            "296    Stocks turn positive to end the week, led by m...\n",
            "297    McDonald's, Starbucks, and others have no reco...\n",
            "298    Instagram users targeted for get-rich-quick in...\n",
            "299    Instagram releases new parental supervisory to...\n",
            "Name: title, Length: 300, dtype: object\n"
          ]
        }
      ],
      "source": [
        "vader = SentimentIntensityAnalyzer()\n",
        "\n",
        "print (df['title'])"
      ]
    },
    {
      "cell_type": "code",
      "execution_count": 6,
      "metadata": {},
      "outputs": [
        {
          "name": "stdout",
          "output_type": "stream",
          "text": [
            "    ticker       date       time  \\\n",
            "0     AMZN  Mar-28-22  08:18AM     \n",
            "1     AMZN  Mar-28-22  07:45AM     \n",
            "2     AMZN  Mar-28-22  06:10AM     \n",
            "3     AMZN  Mar-28-22  05:58AM     \n",
            "4     AMZN  Mar-28-22  05:52AM     \n",
            "..     ...        ...        ...   \n",
            "295     FB  Mar-18-22  04:40PM     \n",
            "296     FB  Mar-18-22  03:18PM     \n",
            "297     FB  Mar-18-22  01:45PM     \n",
            "298     FB  Mar-18-22  12:00PM     \n",
            "299     FB  Mar-18-22  11:54AM     \n",
            "\n",
            "                                                 title  compound    pos  \\\n",
            "0    Tesla Plans Another Stock Split, but This Tiny...    0.0000  0.000   \n",
            "1    Is Snowflake Stock A Buy Or Sell Amid Software...    0.0000  0.000   \n",
            "2    Apple's 'CODA' win at the Oscars could unleash...    0.5859  0.275   \n",
            "3    Why you should fear oil prices at $90, $100, $...   -0.4939  0.000   \n",
            "4    3 Warren Buffett Stocks I'd Buy Without Any He...    0.2057  0.206   \n",
            "..                                                 ...       ...    ...   \n",
            "295  Russian copycats are stealing intellectual pro...   -0.1027  0.236   \n",
            "296  Stocks turn positive to end the week, led by m...    0.5574  0.265   \n",
            "297  McDonald's, Starbucks, and others have no reco...   -0.6597  0.000   \n",
            "298  Instagram users targeted for get-rich-quick in...   -0.5859  0.000   \n",
            "299  Instagram releases new parental supervisory to...    0.0000  0.000   \n",
            "\n",
            "       neg    neu  \n",
            "0    0.000  0.000  \n",
            "1    0.000  0.000  \n",
            "2    0.275  0.275  \n",
            "3    0.000  0.000  \n",
            "4    0.206  0.206  \n",
            "..     ...    ...  \n",
            "295  0.236  0.236  \n",
            "296  0.265  0.265  \n",
            "297  0.000  0.000  \n",
            "298  0.000  0.000  \n",
            "299  0.000  0.000  \n",
            "\n",
            "[300 rows x 8 columns]\n"
          ]
        }
      ],
      "source": [
        "f = lambda title: vader.polarity_scores(title)['compound']\n",
        "df['compound'] = df['title'].apply(f)\n",
        "f2 = lambda title: vader.polarity_scores(title)['pos']\n",
        "df['pos'] = df['title'].apply(f2)\n",
        "f3 = lambda title: vader.polarity_scores(title)['neg']\n",
        "df['neg'] = df['title'].apply(f2)\n",
        "f4 = lambda title: vader.polarity_scores(title)['neu']\n",
        "df['neu'] = df['title'].apply(f2)\n",
        "\n",
        "print(df)"
      ]
    },
    {
      "cell_type": "code",
      "execution_count": 7,
      "metadata": {},
      "outputs": [],
      "source": [
        "f = lambda title: vader.polarity_scores(title)['compound']\n",
        "\n",
        "df['compund'] = df['title'].apply(f)\n",
        "df['date'] = pd.to_datetime(df.date).dt.date\n",
        "\n",
        "f1 = lambda title: vader.polarity_scores(title)['neu']\n",
        "df1['neu'] = df1['title'].apply(f1)\n",
        "df1['date'] = pd.to_datetime(df.date).dt.date"
      ]
    },
    {
      "cell_type": "code",
      "execution_count": 8,
      "metadata": {},
      "outputs": [
        {
          "data": {
            "text/plain": [
              "<Figure size 720x576 with 0 Axes>"
            ]
          },
          "metadata": {},
          "output_type": "display_data"
        },
        {
          "data": {
            "image/png": "[encoded data removed]",
            "text/plain": [
              "<Figure size 432x288 with 1 Axes>"
            ]
          },
          "metadata": {
            "needs_background": "light"
          },
          "output_type": "display_data"
        }
      ],
      "source": [
        "plt.figure(figsize=(10,8))\n",
        "mean_df = df.groupby(['ticker','date']).mean()\n",
        "mean_df = mean_df.unstack()\n",
        "mean_df = mean_df.xs('compound',axis='columns').transpose()\n",
        "mean_df.plot(kind='bar')\n",
        "plt.show()"
      ]
    },
    {
      "cell_type": "code",
      "execution_count": 9,
      "metadata": {},
      "outputs": [
        {
          "data": {
            "text/plain": [
              "<Figure size 1440x720 with 0 Axes>"
            ]
          },
          "metadata": {},
          "output_type": "display_data"
        },
        {
          "data": {
            "image/png": "[encoded data removed]",
            "text/plain": [
              "<Figure size 432x288 with 1 Axes>"
            ]
          },
          "metadata": {
            "needs_background": "light"
          },
          "output_type": "display_data"
        }
      ],
      "source": [
        "plt.figure(figsize=(20,10))\n",
        "mean_df = df.groupby(['ticker', 'date']).mean().unstack()\n",
        "mean_df = mean_df.xs('compound', axis=\"columns\")\n",
        "mean_df.plot(kind='bar')\n",
        "plt.show()"
      ]
    },
    {
      "cell_type": "code",
      "execution_count": 10,
      "metadata": {},
      "outputs": [
        {
          "data": {
            "text/plain": [
              "<Figure size 1440x720 with 0 Axes>"
            ]
          },
          "metadata": {},
          "output_type": "display_data"
        },
        {
          "data": {
            "image/png": "[encoded data removed]",
            "text/plain": [
              "<Figure size 432x288 with 1 Axes>"
            ]
          },
          "metadata": {
            "needs_background": "light"
          },
          "output_type": "display_data"
        }
      ],
      "source": [
        "plt.figure(figsize=(20,10))\n",
        "mean_df1 = df1.groupby(['ticker', 'date']).mean().unstack()\n",
        "mean_df1.head()\n",
        "mean_df1 = mean_df1.xs('neu', axis=\"columns\")\n",
        "mean_df1.plot(kind='bar')\n",
        "plt.show()"
      ]
    },
    {
      "cell_type": "code",
      "execution_count": 11,
      "metadata": {},
      "outputs": [
        {
          "data": {
            "text/plain": [
              "<Figure size 1440x720 with 0 Axes>"
            ]
          },
          "metadata": {},
          "output_type": "display_data"
        },
        {
          "data": {
            "image/png": "[encoded data removed]",
            "text/plain": [
              "<Figure size 432x288 with 1 Axes>"
            ]
          },
          "metadata": {
            "needs_background": "light"
          },
          "output_type": "display_data"
        }
      ],
      "source": [
        "plt.figure(figsize=(20,10))\n",
        "mean_df = df.groupby(['ticker', 'date']).mean().unstack()\n",
        "mean_df = mean_df.xs('neg', axis=\"columns\")\n",
        "mean_df.plot(kind='bar')\n",
        "plt.show()"
      ]
    },
    {
      "cell_type": "code",
      "execution_count": 12,
      "metadata": {
        "colab": {
          "base_uri": "https://localhost:8080/",
          "height": 1000
        },
        "id": "lbvCdcptWg3K",
        "outputId": "cc47687c-eebc-4b67-de3a-8048c27b1ce4"
      },
      "outputs": [
        {
          "data": {
            "text/plain": [
              "<Figure size 1440x720 with 0 Axes>"
            ]
          },
          "metadata": {},
          "output_type": "display_data"
        },
        {
          "data": {
            "image/png": "[encoded data removed]",
            "text/plain": [
              "<Figure size 432x288 with 1 Axes>"
            ]
          },
          "metadata": {
            "needs_background": "light"
          },
          "output_type": "display_data"
        }
      ],
      "source": [
        "plt.figure(figsize=(20,10))\n",
        "mean_df = df.groupby(['ticker', 'date']).mean().unstack()\n",
        "mean_df = mean_df.xs('pos', axis=\"columns\")\n",
        "mean_df.plot(kind='bar')\n",
        "plt.show()"
      ]
    },
    {
      "cell_type": "code",
      "execution_count": 13,
      "metadata": {
        "colab": {
          "base_uri": "https://localhost:8080/"
        },
        "id": "2cVBqVc9UitX",
        "outputId": "4ef51418-8c72-463b-e845-643386e8c43e"
      },
      "outputs": [
        {
          "name": "stdout",
          "output_type": "stream",
          "text": [
            "    ticker        date       time  \\\n",
            "0     AMZN  2022-03-28  08:18AM     \n",
            "1     AMZN  2022-03-28  07:45AM     \n",
            "2     AMZN  2022-03-28  06:10AM     \n",
            "3     AMZN  2022-03-28  05:58AM     \n",
            "4     AMZN  2022-03-28  05:52AM     \n",
            "..     ...         ...        ...   \n",
            "295     FB  2022-03-18  04:40PM     \n",
            "296     FB  2022-03-18  03:18PM     \n",
            "297     FB  2022-03-18  01:45PM     \n",
            "298     FB  2022-03-18  12:00PM     \n",
            "299     FB  2022-03-18  11:54AM     \n",
            "\n",
            "                                                 title  compound    pos  \\\n",
            "0    Tesla Plans Another Stock Split, but This Tiny...    0.0000  0.000   \n",
            "1    Is Snowflake Stock A Buy Or Sell Amid Software...    0.0000  0.000   \n",
            "2    Apple's 'CODA' win at the Oscars could unleash...    0.5859  0.275   \n",
            "3    Why you should fear oil prices at $90, $100, $...   -0.4939  0.000   \n",
            "4    3 Warren Buffett Stocks I'd Buy Without Any He...    0.2057  0.206   \n",
            "..                                                 ...       ...    ...   \n",
            "295  Russian copycats are stealing intellectual pro...   -0.1027  0.236   \n",
            "296  Stocks turn positive to end the week, led by m...    0.5574  0.265   \n",
            "297  McDonald's, Starbucks, and others have no reco...   -0.6597  0.000   \n",
            "298  Instagram users targeted for get-rich-quick in...   -0.5859  0.000   \n",
            "299  Instagram releases new parental supervisory to...    0.0000  0.000   \n",
            "\n",
            "       neg    neu  compund  \n",
            "0    0.000  0.000   0.0000  \n",
            "1    0.000  0.000   0.0000  \n",
            "2    0.275  0.275   0.5859  \n",
            "3    0.000  0.000  -0.4939  \n",
            "4    0.206  0.206   0.2057  \n",
            "..     ...    ...      ...  \n",
            "295  0.236  0.236  -0.1027  \n",
            "296  0.265  0.265   0.5574  \n",
            "297  0.000  0.000  -0.6597  \n",
            "298  0.000  0.000  -0.5859  \n",
            "299  0.000  0.000   0.0000  \n",
            "\n",
            "[300 rows x 9 columns]\n"
          ]
        }
      ],
      "source": [
        "f = lambda title: vader.polarity_scores(title)['compound']\n",
        "df['compound'] = df['title'].apply(f)\n",
        "f2 = lambda title: vader.polarity_scores(title)['pos']\n",
        "df['pos'] = df['title'].apply(f2)\n",
        "f3 = lambda title: vader.polarity_scores(title)['neg']\n",
        "df['neg'] = df['title'].apply(f2)\n",
        "f4 = lambda title: vader.polarity_scores(title)['neu']\n",
        "df['neu'] = df['title'].apply(f2)\n",
        "\n",
        "print(df)\n"
      ]
    }
  ],
  "metadata": {
    "colab": {
      "collapsed_sections": [],
      "name": "Sentiment Analysis.ipynb",
      "provenance": []
    },
    "kernelspec": {
      "display_name": "Python 3",
      "name": "python3"
    },
    "language_info": {
      "codemirror_mode": {
        "name": "ipython",
        "version": 3
      },
      "file_extension": ".py",
      "mimetype": "text/x-python",
      "name": "python",
      "nbconvert_exporter": "python",
      "pygments_lexer": "ipython3",
      "version": "3.10.2"
    }
  },
  "nbformat": 4,
  "nbformat_minor": 0
}
