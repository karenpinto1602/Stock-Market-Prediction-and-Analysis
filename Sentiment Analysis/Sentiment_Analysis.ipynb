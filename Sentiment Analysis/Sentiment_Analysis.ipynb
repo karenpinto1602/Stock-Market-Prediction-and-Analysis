{
  "cells": [
    {
      "cell_type": "code",
      "execution_count": 10,
      "metadata": {},
      "outputs": [
        {
          "name": "stderr",
          "output_type": "stream",
          "text": [
            "[nltk_data] Downloading package vader_lexicon to C:\\Users\\Karen\n",
            "[nltk_data]     Pinto\\AppData\\Roaming\\nltk_data...\n",
            "[nltk_data]   Package vader_lexicon is already up-to-date!\n"
          ]
        },
        {
          "data": {
            "text/plain": [
              "True"
            ]
          },
          "execution_count": 10,
          "metadata": {},
          "output_type": "execute_result"
        }
      ],
      "source": [
        "from urllib.request import urlopen, Request\n",
        "from bs4 import BeautifulSoup\n",
        "from nltk.sentiment.vader import SentimentIntensityAnalyzer\n",
        "import pandas as pd\n",
        "import matplotlib.pyplot as plt\n",
        "import nltk\n",
        "nltk.download('vader_lexicon')"
      ]
    },
    {
      "cell_type": "code",
      "execution_count": 11,
      "metadata": {},
      "outputs": [],
      "source": [
        "finviz_url = 'https://finviz.com/quote.ashx?t='\n",
        "tickers = ['AMZN', 'GOOG', 'FB']"
      ]
    },
    {
      "cell_type": "code",
      "execution_count": 12,
      "metadata": {},
      "outputs": [],
      "source": [
        "news_tables = {}\n",
        "for ticker in tickers:\n",
        "    url = finviz_url + ticker\n",
        "\n",
        "    req = Request(url=url, headers={'user-agent': 'my-app'}) # to get access from finviz\n",
        "    response = urlopen(req)\n",
        "\n",
        "    html = BeautifulSoup(response, features='html.parser') # will return the source code of that url page\n",
        "    # from the source code, it is noticed that all the articles are stored in a table with the id=news-table\n",
        "    # so lets access the whole table\n",
        "    news_table = html.find(id='news-table') \n",
        "    news_tables[ticker] = news_table # so here we store the whole table in a dictionary with key 'ticker'\n"
      ]
    },
    {
      "cell_type": "code",
      "execution_count": 13,
      "metadata": {},
      "outputs": [
        {
          "name": "stdout",
          "output_type": "stream",
          "text": [
            "    ticker       date       time  \\\n",
            "0     AMZN  Mar-19-22  01:32AM     \n",
            "1     AMZN  Mar-19-22  12:57AM     \n",
            "2     AMZN  Mar-19-22  12:50AM     \n",
            "3     AMZN  Mar-18-22  07:36PM     \n",
            "4     AMZN  Mar-18-22  07:03PM     \n",
            "..     ...        ...        ...   \n",
            "295     FB  Mar-11-22  04:12PM     \n",
            "296     FB  Mar-11-22  03:48PM     \n",
            "297     FB  Mar-11-22  02:39PM     \n",
            "298     FB  Mar-11-22  02:26PM     \n",
            "299     FB  Mar-11-22  01:36PM     \n",
            "\n",
            "                                                 title  \n",
            "0    UPDATE 1-U.S. court dismisses D.C. antitrust l...  \n",
            "1    U.S. court dismisses D.C. antitrust lawsuit ag...  \n",
            "2    U.S. court dismisses D.C. antitrust lawsuit ag...  \n",
            "3    Amazon Antitrust Lawsuit in D.C. Dismissed by ...  \n",
            "4                       Why MongoDB Stock Popped Today  \n",
            "..                                                 ...  \n",
            "295  Russia Will Ban Instagram, After Meta Allows U...  \n",
            "296      Why These 10 Stocks Are on the Move on Friday  \n",
            "297  Russia Asks Court to Label Facebook, Instagram...  \n",
            "298  Russia Files Criminal Lawsuit Against Facebook...  \n",
            "299  REFILE-Meta exec Clegg says rule changes on sp...  \n",
            "\n",
            "[300 rows x 4 columns]\n"
          ]
        }
      ],
      "source": [
        "parsed_data = []\n",
        "\n",
        "for ticker, news_table in news_tables.items():\n",
        "\n",
        "    for row in news_table.findAll('tr'):\n",
        "\n",
        "        title = row.a.text\n",
        "        date_data = row.td.text.split(' ')\n",
        "\n",
        "        if len(date_data) == 1:\n",
        "            time = date_data[0]\n",
        "        else:\n",
        "            date = date_data[0]\n",
        "            time = date_data[1]\n",
        "\n",
        "        parsed_data.append([ticker, date, time, title])\n",
        "\n",
        "df = pd.DataFrame(parsed_data, columns=['ticker', 'date', 'time', 'title'])\n",
        "df1 = pd.DataFrame(parsed_data, columns=['ticker', 'date', 'time', 'title'])\n",
        "print(df)"
      ]
    },
    {
      "cell_type": "code",
      "execution_count": 14,
      "metadata": {},
      "outputs": [
        {
          "name": "stdout",
          "output_type": "stream",
          "text": [
            "0      UPDATE 1-U.S. court dismisses D.C. antitrust l...\n",
            "1      U.S. court dismisses D.C. antitrust lawsuit ag...\n",
            "2      U.S. court dismisses D.C. antitrust lawsuit ag...\n",
            "3      Amazon Antitrust Lawsuit in D.C. Dismissed by ...\n",
            "4                         Why MongoDB Stock Popped Today\n",
            "                             ...                        \n",
            "295    Russia Will Ban Instagram, After Meta Allows U...\n",
            "296        Why These 10 Stocks Are on the Move on Friday\n",
            "297    Russia Asks Court to Label Facebook, Instagram...\n",
            "298    Russia Files Criminal Lawsuit Against Facebook...\n",
            "299    REFILE-Meta exec Clegg says rule changes on sp...\n",
            "Name: title, Length: 300, dtype: object\n"
          ]
        }
      ],
      "source": [
        "vader = SentimentIntensityAnalyzer()\n",
        "\n",
        "print (df['title'])"
      ]
    },
    {
      "cell_type": "code",
      "execution_count": 15,
      "metadata": {},
      "outputs": [
        {
          "name": "stdout",
          "output_type": "stream",
          "text": [
            "    ticker       date       time  \\\n",
            "0     AMZN  Mar-19-22  01:32AM     \n",
            "1     AMZN  Mar-19-22  12:57AM     \n",
            "2     AMZN  Mar-19-22  12:50AM     \n",
            "3     AMZN  Mar-18-22  07:36PM     \n",
            "4     AMZN  Mar-18-22  07:03PM     \n",
            "..     ...        ...        ...   \n",
            "295     FB  Mar-11-22  04:12PM     \n",
            "296     FB  Mar-11-22  03:48PM     \n",
            "297     FB  Mar-11-22  02:39PM     \n",
            "298     FB  Mar-11-22  02:26PM     \n",
            "299     FB  Mar-11-22  01:36PM     \n",
            "\n",
            "                                                 title  compound    pos  \\\n",
            "0    UPDATE 1-U.S. court dismisses D.C. antitrust l...   -0.0516  0.160   \n",
            "1    U.S. court dismisses D.C. antitrust lawsuit ag...   -0.0516  0.177   \n",
            "2    U.S. court dismisses D.C. antitrust lawsuit ag...   -0.0516  0.177   \n",
            "3    Amazon Antitrust Lawsuit in D.C. Dismissed by ...   -0.0516  0.177   \n",
            "4                       Why MongoDB Stock Popped Today    0.0000  0.000   \n",
            "..                                                 ...       ...    ...   \n",
            "295  Russia Will Ban Instagram, After Meta Allows U...   -0.8834  0.000   \n",
            "296      Why These 10 Stocks Are on the Move on Friday    0.0000  0.000   \n",
            "297  Russia Asks Court to Label Facebook, Instagram...    0.0000  0.000   \n",
            "298  Russia Files Criminal Lawsuit Against Facebook...   -0.6486  0.000   \n",
            "299  REFILE-Meta exec Clegg says rule changes on sp...    0.0000  0.000   \n",
            "\n",
            "       neg    neu  \n",
            "0    0.160  0.160  \n",
            "1    0.177  0.177  \n",
            "2    0.177  0.177  \n",
            "3    0.177  0.177  \n",
            "4    0.000  0.000  \n",
            "..     ...    ...  \n",
            "295  0.000  0.000  \n",
            "296  0.000  0.000  \n",
            "297  0.000  0.000  \n",
            "298  0.000  0.000  \n",
            "299  0.000  0.000  \n",
            "\n",
            "[300 rows x 8 columns]\n"
          ]
        }
      ],
      "source": [
        "f = lambda title: vader.polarity_scores(title)['compound']\n",
        "df['compound'] = df['title'].apply(f)\n",
        "f2 = lambda title: vader.polarity_scores(title)['pos']\n",
        "df['pos'] = df['title'].apply(f2)\n",
        "f3 = lambda title: vader.polarity_scores(title)['neg']\n",
        "df['neg'] = df['title'].apply(f2)\n",
        "f4 = lambda title: vader.polarity_scores(title)['neu']\n",
        "df['neu'] = df['title'].apply(f2)\n",
        "\n",
        "print(df)"
      ]
    },
    {
      "cell_type": "code",
      "execution_count": 16,
      "metadata": {},
      "outputs": [],
      "source": [
        "f = lambda title: vader.polarity_scores(title)['compound']\n",
        "\n",
        "df['compund'] = df['title'].apply(f)\n",
        "df['date'] = pd.to_datetime(df.date).dt.date\n",
        "\n",
        "f1 = lambda title: vader.polarity_scores(title)['neu']\n",
        "df1['neu'] = df1['title'].apply(f1)\n",
        "df1['date'] = pd.to_datetime(df.date).dt.date"
      ]
    },
    {
      "cell_type": "code",
      "execution_count": 24,
      "metadata": {},
      "outputs": [
        {
          "data": {
            "text/plain": [
              "<Figure size 720x576 with 0 Axes>"
            ]
          },
          "metadata": {},
          "output_type": "display_data"
        },
        {
          "data": {
            "image/png": "[encoded data removed]",
            "text/plain": [
              "<Figure size 432x288 with 1 Axes>"
            ]
          },
          "metadata": {
            "needs_background": "light"
          },
          "output_type": "display_data"
        }
      ],
      "source": [
        "plt.figure(figsize=(10,8))\n",
        "mean_df = df.groupby(['ticker','date']).mean()\n",
        "mean_df = mean_df.unstack()\n",
        "mean_df = mean_df.xs('compound',axis='columns').transpose()\n",
        "mean_df.plot(kind='bar')\n",
        "plt.show()"
      ]
    },
    {
      "cell_type": "code",
      "execution_count": 27,
      "metadata": {},
      "outputs": [
        {
          "data": {
            "text/plain": [
              "<Figure size 1440x720 with 0 Axes>"
            ]
          },
          "metadata": {},
          "output_type": "display_data"
        },
        {
          "data": {
            "image/png": "[encoded data removed]",
            "text/plain": [
              "<Figure size 432x288 with 1 Axes>"
            ]
          },
          "metadata": {
            "needs_background": "light"
          },
          "output_type": "display_data"
        }
      ],
      "source": [
        "plt.figure(figsize=(20,10))\n",
        "mean_df = df.groupby(['ticker', 'date']).mean().unstack()\n",
        "mean_df = mean_df.xs('compound', axis=\"columns\")\n",
        "mean_df.plot(kind='bar')\n",
        "plt.show()"
      ]
    },
    {
      "cell_type": "code",
      "execution_count": 25,
      "metadata": {},
      "outputs": [
        {
          "data": {
            "text/plain": [
              "<Figure size 1440x720 with 0 Axes>"
            ]
          },
          "metadata": {},
          "output_type": "display_data"
        },
        {
          "data": {
            "image/png": "[encoded data removed]",
            "text/plain": [
              "<Figure size 432x288 with 1 Axes>"
            ]
          },
          "metadata": {
            "needs_background": "light"
          },
          "output_type": "display_data"
        }
      ],
      "source": [
        "plt.figure(figsize=(20,10))\n",
        "mean_df1 = df1.groupby(['ticker', 'date']).mean().unstack()\n",
        "mean_df1.head()\n",
        "mean_df1 = mean_df1.xs('neu', axis=\"columns\")\n",
        "mean_df1.plot(kind='bar')\n",
        "plt.show()"
      ]
    },
    {
      "cell_type": "code",
      "execution_count": 20,
      "metadata": {},
      "outputs": [
        {
          "data": {
            "text/plain": [
              "<Figure size 1440x720 with 0 Axes>"
            ]
          },
          "metadata": {},
          "output_type": "display_data"
        },
        {
          "data": {
            "image/png": "[encoded data removed]",
            "text/plain": [
              "<Figure size 432x288 with 1 Axes>"
            ]
          },
          "metadata": {
            "needs_background": "light"
          },
          "output_type": "display_data"
        }
      ],
      "source": [
        "plt.figure(figsize=(20,10))\n",
        "mean_df = df.groupby(['ticker', 'date']).mean().unstack()\n",
        "mean_df = mean_df.xs('neg', axis=\"columns\")\n",
        "mean_df.plot(kind='bar')\n",
        "plt.show()"
      ]
    },
    {
      "cell_type": "code",
      "execution_count": 21,
      "metadata": {
        "colab": {
          "base_uri": "https://localhost:8080/",
          "height": 1000
        },
        "id": "lbvCdcptWg3K",
        "outputId": "cc47687c-eebc-4b67-de3a-8048c27b1ce4"
      },
      "outputs": [
        {
          "data": {
            "text/plain": [
              "<Figure size 1440x720 with 0 Axes>"
            ]
          },
          "metadata": {},
          "output_type": "display_data"
        },
        {
          "data": {
            "image/png": "[encoded data removed]",
            "text/plain": [
              "<Figure size 432x288 with 1 Axes>"
            ]
          },
          "metadata": {
            "needs_background": "light"
          },
          "output_type": "display_data"
        }
      ],
      "source": [
        "plt.figure(figsize=(20,10))\n",
        "mean_df = df.groupby(['ticker', 'date']).mean().unstack()\n",
        "mean_df = mean_df.xs('pos', axis=\"columns\")\n",
        "mean_df.plot(kind='bar')\n",
        "plt.show()"
      ]
    },
    {
      "cell_type": "code",
      "execution_count": 22,
      "metadata": {
        "colab": {
          "base_uri": "https://localhost:8080/"
        },
        "id": "2cVBqVc9UitX",
        "outputId": "4ef51418-8c72-463b-e845-643386e8c43e"
      },
      "outputs": [
        {
          "name": "stdout",
          "output_type": "stream",
          "text": [
            "    ticker        date       time  \\\n",
            "0     AMZN  2022-03-19  01:32AM     \n",
            "1     AMZN  2022-03-19  12:57AM     \n",
            "2     AMZN  2022-03-19  12:50AM     \n",
            "3     AMZN  2022-03-18  07:36PM     \n",
            "4     AMZN  2022-03-18  07:03PM     \n",
            "..     ...         ...        ...   \n",
            "295     FB  2022-03-11  04:12PM     \n",
            "296     FB  2022-03-11  03:48PM     \n",
            "297     FB  2022-03-11  02:39PM     \n",
            "298     FB  2022-03-11  02:26PM     \n",
            "299     FB  2022-03-11  01:36PM     \n",
            "\n",
            "                                                 title  compound    pos  \\\n",
            "0    UPDATE 1-U.S. court dismisses D.C. antitrust l...   -0.0516  0.160   \n",
            "1    U.S. court dismisses D.C. antitrust lawsuit ag...   -0.0516  0.177   \n",
            "2    U.S. court dismisses D.C. antitrust lawsuit ag...   -0.0516  0.177   \n",
            "3    Amazon Antitrust Lawsuit in D.C. Dismissed by ...   -0.0516  0.177   \n",
            "4                       Why MongoDB Stock Popped Today    0.0000  0.000   \n",
            "..                                                 ...       ...    ...   \n",
            "295  Russia Will Ban Instagram, After Meta Allows U...   -0.8834  0.000   \n",
            "296      Why These 10 Stocks Are on the Move on Friday    0.0000  0.000   \n",
            "297  Russia Asks Court to Label Facebook, Instagram...    0.0000  0.000   \n",
            "298  Russia Files Criminal Lawsuit Against Facebook...   -0.6486  0.000   \n",
            "299  REFILE-Meta exec Clegg says rule changes on sp...    0.0000  0.000   \n",
            "\n",
            "       neg    neu  compund  \n",
            "0    0.160  0.160  -0.0516  \n",
            "1    0.177  0.177  -0.0516  \n",
            "2    0.177  0.177  -0.0516  \n",
            "3    0.177  0.177  -0.0516  \n",
            "4    0.000  0.000   0.0000  \n",
            "..     ...    ...      ...  \n",
            "295  0.000  0.000  -0.8834  \n",
            "296  0.000  0.000   0.0000  \n",
            "297  0.000  0.000   0.0000  \n",
            "298  0.000  0.000  -0.6486  \n",
            "299  0.000  0.000   0.0000  \n",
            "\n",
            "[300 rows x 9 columns]\n"
          ]
        }
      ],
      "source": [
        "f = lambda title: vader.polarity_scores(title)['compound']\n",
        "df['compound'] = df['title'].apply(f)\n",
        "f2 = lambda title: vader.polarity_scores(title)['pos']\n",
        "df['pos'] = df['title'].apply(f2)\n",
        "f3 = lambda title: vader.polarity_scores(title)['neg']\n",
        "df['neg'] = df['title'].apply(f2)\n",
        "f4 = lambda title: vader.polarity_scores(title)['neu']\n",
        "df['neu'] = df['title'].apply(f2)\n",
        "\n",
        "print(df)\n"
      ]
    }
  ],
  "metadata": {
    "colab": {
      "collapsed_sections": [],
      "name": "Sentiment Analysis.ipynb",
      "provenance": []
    },
    "kernelspec": {
      "display_name": "Python 3",
      "name": "python3"
    },
    "language_info": {
      "codemirror_mode": {
        "name": "ipython",
        "version": 3
      },
      "file_extension": ".py",
      "mimetype": "text/x-python",
      "name": "python",
      "nbconvert_exporter": "python",
      "pygments_lexer": "ipython3",
      "version": "3.10.2"
    }
  },
  "nbformat": 4,
  "nbformat_minor": 0
}
